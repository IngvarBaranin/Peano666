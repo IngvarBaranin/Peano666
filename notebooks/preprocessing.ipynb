{
 "cells": [
  {
   "cell_type": "code",
   "execution_count": 111,
   "id": "f274c5e6",
   "metadata": {},
   "outputs": [],
   "source": [
    "from collections import Counter, OrderedDict\n",
    "import tensorflow as tf\n",
    "import numpy as np\n",
    "import tensorflow.keras\n",
    "import functools\n",
    "import math\n",
    "import os \n",
    "\n",
    "%run midi_utils.ipynb"
   ]
  },
  {
   "cell_type": "code",
   "execution_count": 164,
   "id": "76ce8534",
   "metadata": {},
   "outputs": [],
   "source": [
    "# Read all midi tokens into a single list of lists\n",
    "filename = './training_data.txt'\n",
    "with open(filename) as file:\n",
    "    training_data = file.read().splitlines() \n",
    "    \n",
    "# Split each midi by space to get its original token list form\n",
    "training_data = [tokens.split(\" \") for tokens in training_data]\n",
    "\n",
    "# Remove all timesignature tokens because it turns out these are not really useful for anything\n",
    "training_data = [[token for token in tokens if not token.startswith(\"time\")] for tokens in training_data]\n",
    "\n",
    "# Remove fraction subtraction craziness\n",
    "replacements = [[\"0.084\", \"0.083\"], [\"0.167\", \"0.166\"], [\"0.334\", \"0.333\"], [\"0.332\", \"0.333\"], [\"0.667\", \"0.666\"], [\"wait:0.001\", \"\"]]\n",
    "for old, new in replacements:\n",
    "    training_data = [[token.replace(old, new) for token in tokens] for tokens in training_data]\n",
    "    \n",
    "# Handle rare wait values by finding rarely occurring wait values and replacing them with the closest often-occurring value\n",
    "tokens_combined = [item for sublist in training_data for item in sublist]\n",
    "token_occurrences = Counter(tokens_combined)\n",
    "occurrence_threshold = 100\n",
    "need_to_be_replaced = sorted(list({float(k.split(\":\")[1]) for k, v in sorted(token_occurrences.items(), key=lambda item: item[1]) if k.startswith(\"wait\") and v < occurrence_threshold}))\n",
    "occurring_often = sorted(list({float(k.split(\":\")[1]) for k, v in sorted(token_occurrences.items(), key=lambda item: item[1]) if k.startswith(\"wait\") and v >= occurrence_threshold}))\n",
    "\n",
    "replacements = list()\n",
    "for wait_time in need_to_be_replaced:\n",
    "    replacements.append([str(wait_time), str(min(occurring_often, key=lambda x:abs(x-wait_time)))])\n",
    "    \n",
    "for old, new in replacements:\n",
    "    training_data = [[token.replace(old, new) for token in tokens] for tokens in training_data]"
   ]
  },
  {
   "cell_type": "code",
   "execution_count": 165,
   "id": "6f1cce97",
   "metadata": {},
   "outputs": [
    {
     "data": {
      "text/plain": [
       "202"
      ]
     },
     "execution_count": 165,
     "metadata": {},
     "output_type": "execute_result"
    }
   ],
   "source": [
    "tokens_combined = [item for sublist in training_data for item in sublist]\n",
    "token_occurrences = Counter(tokens_combined)\n",
    "\n",
    "len({k: v for k, v in sorted(token_occurrences.items(), key=lambda item: item[1])})"
   ]
  }
 ],
 "metadata": {
  "kernelspec": {
   "display_name": "Python 3",
   "language": "python",
   "name": "python3"
  },
  "language_info": {
   "codemirror_mode": {
    "name": "ipython",
    "version": 3
   },
   "file_extension": ".py",
   "mimetype": "text/x-python",
   "name": "python",
   "nbconvert_exporter": "python",
   "pygments_lexer": "ipython3",
   "version": "3.7.10"
  }
 },
 "nbformat": 4,
 "nbformat_minor": 5
}

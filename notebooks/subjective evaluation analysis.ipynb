{
 "cells": [
  {
   "cell_type": "markdown",
   "id": "together-estimate",
   "metadata": {},
   "source": [
    "# Subjective Evaluation Results Analysis"
   ]
  },
  {
   "cell_type": "markdown",
   "id": "frank-tomato",
   "metadata": {},
   "source": [
    "This notebook includes the wrangling of the original .xlsx table we got from Google Sheets to create graphical output"
   ]
  },
  {
   "cell_type": "markdown",
   "id": "micro-athletics",
   "metadata": {},
   "source": [
    "## Creating the dataset"
   ]
  },
  {
   "cell_type": "code",
   "execution_count": 19,
   "id": "least-folder",
   "metadata": {},
   "outputs": [],
   "source": [
    "library(tidyverse)\n",
    "library(readxl)\n",
    "library(dplyr)\n",
    "library(ggplot2)\n",
    "options(repr.plot.width=5, repr.plot.height=3)"
   ]
  },
  {
   "cell_type": "code",
   "execution_count": 10,
   "id": "foreign-packing",
   "metadata": {},
   "outputs": [],
   "source": [
    "obj_data <- read_excel('muusika.xlsx')\n",
    "\n",
    "true_values <- read_excel('true_values.xlsx')\n",
    "\n",
    "\n",
    "obj_data <- obj_data %>% \n",
    "  tibble::rowid_to_column(\"ID\") %>% \n",
    "  gather(\"group_and_track\",\"position\",colnames(obj_data)[2:31]) %>% \n",
    "  mutate(voting_group=as.numeric(str_split(group_and_track,\". \",simplify = TRUE)[,1])) %>% \n",
    "  mutate(track = as.numeric(str_sub(group_and_track,-2,-2))) %>% \n",
    "  mutate(pos = as.factor(substr(position,1,1)))\n",
    "\n",
    "full_data <- obj_data %>% \n",
    "  full_join(true_values,by=c('voting_group'='group','track'='track'))"
   ]
  },
  {
   "cell_type": "markdown",
   "id": "elementary-trading",
   "metadata": {},
   "source": [
    "## Overall ranking of tracks of different origin"
   ]
  },
  {
   "cell_type": "code",
   "execution_count": 21,
   "id": "engaged-analyst",
   "metadata": {},
   "outputs": [
    {
     "data": {
      "image/png": "[encoded data removed]",
      "text/plain": [
       "plot without title"
      ]
     },
     "metadata": {},
     "output_type": "display_data"
    }
   ],
   "source": [
    "# position dataset to summarise the nr of times a track of certain type was rated on each position\n",
    "position_n <- full_data %>% \n",
    "  group_by(tr_type,pos) %>% \n",
    "  summarise(count_n = n()) \n",
    "\n",
    "# bar plot visualization\n",
    "ggplot(position_n,aes(x=tr_type,y = count_n, fill=pos)) +\n",
    "  geom_bar(stat=\"identity\",position=\"fill\") +\n",
    "  scale_fill_manual(values = c(\"#2c3c94\", \"#f06292\", \"#9c254d\")) +\n",
    "  labs(y=\"tracks assigned to position\",x = \"track type\",fill=\"assigned position\")+\n",
    "  scale_y_continuous(labels=scales::percent)+\n",
    "  theme_bw()"
   ]
  },
  {
   "cell_type": "markdown",
   "id": "nuclear-community",
   "metadata": {},
   "source": [
    "## Ranking of tracks when analyzing each voting round separately"
   ]
  },
  {
   "cell_type": "code",
   "execution_count": 23,
   "id": "tender-coach",
   "metadata": {},
   "outputs": [
    {
     "data": {
      "image/png": "[encoded data removed]",
      "text/plain": [
       "plot without title"
      ]
     },
     "metadata": {},
     "output_type": "display_data"
    }
   ],
   "source": [
    "options(repr.plot.width=10, repr.plot.height=3)\n",
    "position_n_gr <- full_data %>% \n",
    "  group_by(voting_group,tr_type,pos) %>% \n",
    "  summarise(count_n = n()) \n",
    "\n",
    "ggplot(position_n_gr,aes(x=tr_type,y = count_n, fill=pos)) +\n",
    "  geom_bar(stat=\"identity\",position=\"fill\") +\n",
    "  scale_fill_manual(values = c(\"#2c3c94\", \"#f06292\", \"#9c254d\")) +\n",
    "  labs(y=\"times assigned to position\",x = \"track type\",fill=\"assigned position\")+\n",
    "  scale_y_continuous(labels=scales::percent)+\n",
    "  theme_bw()+\n",
    "  facet_wrap(~voting_group,ncol=5) # creates a separate graph for each voting group"
   ]
  }
 ],
 "metadata": {
  "kernelspec": {
   "display_name": "R",
   "language": "R",
   "name": "ir"
  },
  "language_info": {
   "codemirror_mode": "r",
   "file_extension": ".r",
   "mimetype": "text/x-r-source",
   "name": "R",
   "pygments_lexer": "r",
   "version": "3.6.1"
  }
 },
 "nbformat": 4,
 "nbformat_minor": 5
}

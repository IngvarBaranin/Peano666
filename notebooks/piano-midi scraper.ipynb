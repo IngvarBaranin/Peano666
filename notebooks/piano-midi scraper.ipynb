{
 "cells": [
  {
   "cell_type": "markdown",
   "metadata": {},
   "source": [
    "# piano-midi.de scraper\n",
    "### The combined zip should be in the dataset folder, so you don't _need_ to run this code."
   ]
  },
  {
   "cell_type": "code",
   "execution_count": 1,
   "metadata": {},
   "outputs": [
    {
     "name": "stdout",
     "output_type": "stream",
     "text": [
      "Downloading: http://piano-midi.de/zip/albeniz.zip\n",
      "Downloading: http://piano-midi.de/zip/bach.zip\n",
      "Downloading: http://piano-midi.de/zip/balakir.zip\n",
      "Downloading: http://piano-midi.de/zip/beeth.zip\n",
      "Downloading: http://piano-midi.de/zip/borodin.zip\n",
      "Downloading: http://piano-midi.de/zip/brahms.zip\n",
      "Downloading: http://piano-midi.de/zip/burgm.zip\n",
      "Downloading: http://piano-midi.de/zip/chopin.zip\n",
      "Downloading: http://piano-midi.de/zip/debussy.zip\n",
      "Downloading: http://piano-midi.de/zip/granados.zip\n",
      "Downloading: http://piano-midi.de/zip/grieg.zip\n",
      "Downloading: http://piano-midi.de/zip/haydn.zip\n",
      "Downloading: http://piano-midi.de/zip/liszt.zip\n",
      "Downloading: http://piano-midi.de/zip/mendelssohn.zip\n",
      "Downloading: http://piano-midi.de/zip/mozart.zip\n",
      "Downloading: http://piano-midi.de/zip/muss.zip\n",
      "Downloading: http://piano-midi.de/zip/schubert.zip\n",
      "Downloading: http://piano-midi.de/zip/schumann.zip\n",
      "Downloading: http://piano-midi.de/zip/tschai.zip\n",
      "Press 0 to unzip to separate folders by composer, 1 to unzip to a single folder\n",
      "1\n"
     ]
    }
   ],
   "source": [
    "from selenium import webdriver\n",
    "import urllib.request, os, zipfile\n",
    "\n",
    "url = \"http://piano-midi.de/\"\n",
    "browser = webdriver.Chrome() # ChromeDriver v90.0.4430.24, make sure it matches with your Chrome version\n",
    "browser.get(url)\n",
    "\n",
    "composer_buttons = browser.find_element_by_xpath(\"/html/body/table/tbody/tr[2]/td[1]/div[1]\")\n",
    "composers_pages = [composer.get_attribute(\"href\") for composer in composer_buttons.find_elements_by_xpath(\"./a[@href]\")][1:-2]\n",
    "\n",
    "for composer_page in composers_pages:\n",
    "    browser.get(composer_page)\n",
    "    zip_download_link = browser.find_element_by_xpath(\"/html/body/table/tbody/tr[2]/td[2]/p[2]/a[1]\").get_attribute(\"href\")\n",
    "    if zip_download_link.endswith(\".zip\"):\n",
    "        print(\"Downloading: \" + zip_download_link)\n",
    "        urllib.request.urlretrieve(zip_download_link, \"../dataset/\" + zip_download_link.split(\"/\")[-1])\n",
    "\n",
    "print(\"Press 0 to unzip to separate folders by composer, 1 to unzip to a single folder\")\n",
    "unzip_pref = int(input())\n",
    "        \n",
    "os.chdir(\"../dataset\")\n",
    "\n",
    "if unzip_pref == 0:\n",
    "    for filename in os.listdir():\n",
    "        if filename.endswith(\".zip\"):\n",
    "            name = filename.split(\".\")[0]\n",
    "            if unzip_pref == 0:\n",
    "                if not os.path.isdir(name):\n",
    "                    composer_zip = zipfile.ZipFile(filename)\n",
    "                    os.mkdir(name)\n",
    "                    composer_zip.extractall(path=name)\n",
    "                else:\n",
    "                    print(name + \" folder already exists\")\n",
    "\n",
    "if unzip_pref == 1:\n",
    "    if not os.path.isdir(\"combined\"):\n",
    "        os.mkdir(\"combined\")\n",
    "        for filename in os.listdir():\n",
    "            if filename.endswith(\".zip\"):\n",
    "                composer_zip = zipfile.ZipFile(filename)\n",
    "                composer_zip.extractall(path=\"combined\")\n",
    "    else:\n",
    "        print(\"combined folder already exists\")"
   ]
  }
 ],
 "metadata": {
  "kernelspec": {
   "display_name": "Python 3",
   "language": "python",
   "name": "python3"
  },
  "language_info": {
   "codemirror_mode": {
    "name": "ipython",
    "version": 3
   },
   "file_extension": ".py",
   "mimetype": "text/x-python",
   "name": "python",
   "nbconvert_exporter": "python",
   "pygments_lexer": "ipython3",
   "version": "3.7.10"
  }
 },
 "nbformat": 4,
 "nbformat_minor": 2
}

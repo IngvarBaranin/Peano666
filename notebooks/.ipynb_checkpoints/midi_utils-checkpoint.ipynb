{
 "cells": [
  {
   "cell_type": "code",
   "execution_count": 1,
   "id": "a1915540",
   "metadata": {},
   "outputs": [
    {
     "name": "stderr",
     "output_type": "stream",
     "text": [
      "music21: Certain music21 functions might need the optional package matplotlib;\n",
      "                  if you run into errors, install it by following the instructions at\n",
      "                  http://mit.edu/music21/doc/installing/installAdditional.html\n"
     ]
    }
   ],
   "source": [
    "from music21 import *"
   ]
  },
  {
   "cell_type": "code",
   "execution_count": 18,
   "id": "c14ef025",
   "metadata": {},
   "outputs": [],
   "source": [
    "test_path = \"../dataset/combined/alb_esp1.mid\""
   ]
  },
  {
   "cell_type": "code",
   "execution_count": 56,
   "id": "16aa5e7d",
   "metadata": {},
   "outputs": [],
   "source": [
    "# Function to open a midi file for further manipulation\n",
    "# Params: string path to a midi file\n",
    "def open_midi_file(midi_file_path):\n",
    "    midifile = converter.parse(midi_file_path)\n",
    "    return midifile\n",
    "\n",
    "# Function to open a midi file's sheet variant in MuseScore, requires MuseScore to be installed\n",
    "# PS: If at first it doesn't work, try following http://web.mit.edu/music21/doc/installing/installWindows.html#install-music21\n",
    "# If it still doesn't work, try running the function a second time for the heck of it. Environment variables be crazy.\n",
    "# Params: string path to a midi file\n",
    "def open_midi_file_musescore(midi_file_path):\n",
    "    midi_file = open_midi_file(midi_file_path)\n",
    "    midi_file.show()\n",
    "    \n",
    "# Function to play a midi file\n",
    "# Params: string path to a midi file\n",
    "def play_midi_file(midi_file_path):\n",
    "    midi_file = open_midi_file(midi_file_path)\n",
    "    midi_file.show(\"midi\")\n",
    "    \n",
    "# Function to turn a midi file into text tokens\n",
    "# Params: string path to a midi file\n",
    "def convert_midi_to_tokens(midi_file_path):\n",
    "    midi_file = open_midi_file(midi_file_path)\n",
    "    \n",
    "    # A list to hold tokens\n",
    "    tokens = list()\n",
    "    \n",
    "    # A list to keep track of which note events await a corresponding note off event\n",
    "    notes_to_stop = list()\n",
    "    \n",
    "    # Keeps track of time since start of the midi piece\n",
    "    current_offset = 0\n",
    "    \n",
    "    # Iterate over all midi events, sorted by offset (ascending)\n",
    "    # and handle which tokens will be added to list of tokens\n",
    "    for midi_event in midi_file.flat.elements:\n",
    "        \n",
    "        current_offset = round(float(midi_event.offset), 3)\n",
    "        \n",
    "        # If the current midi event is a note, add a note token along with its midi pitch number\n",
    "        if isinstance(midi_event, note.Note):\n",
    "            midi_pitch = str(midi_event.pitch.midi)\n",
    "            token_string = \"note:\" + midi_pitch\n",
    "            note_end_offset = float(current_offset + midi_event.duration.quarterLength)\n",
    "            \n",
    "            tokens.append(token_string)\n",
    "            notes_to_stop.append([midi_pitch, note_end_offset])\n",
    "        \n",
    "        # If the current midi event is a chord, add a note token for every note in the chord\n",
    "        if isinstance(midi_event, chord.Chord):\n",
    "            for individual_note in midi_event:\n",
    "                midi_pitch = str(individual_note.pitch.midi)\n",
    "                token_string = \"note:\" + midi_pitch\n",
    "                note_end_offset = float(current_offset + individual_note.duration.quarterLength)\n",
    "\n",
    "                tokens.append(token_string)\n",
    "                notes_to_stop.append([midi_pitch, note_end_offset])\n",
    "                \n",
    "        \n",
    "            \n",
    "    return tokens"
   ]
  },
  {
   "cell_type": "code",
   "execution_count": 20,
   "id": "9410335b",
   "metadata": {},
   "outputs": [],
   "source": [
    "midi_file = open_midi_file(test_path)"
   ]
  },
  {
   "cell_type": "code",
   "execution_count": 16,
   "id": "54adce1e",
   "metadata": {},
   "outputs": [],
   "source": [
    "open_midi_file_musescore(test_path)"
   ]
  },
  {
   "cell_type": "code",
   "execution_count": 21,
   "id": "4204862e",
   "metadata": {},
   "outputs": [],
   "source": [
    "play_midi_file(test_path)"
   ]
  },
  {
   "cell_type": "code",
   "execution_count": 57,
   "id": "c7c6e3fd",
   "metadata": {},
   "outputs": [
    {
     "name": "stdout",
     "output_type": "stream",
     "text": [
      "['note:81', 'note:57', 'note:88', 'note:64', 'note:86', 'note:62', 'note:88', 'note:64', 'note:86', 'note:62', 'note:84', 'note:60', 'note:86', 'note:62', 'note:88', 'note:64', 'note:89', 'note:65', 'note:91', 'note:67', 'note:88', 'note:64', 'note:89', 'note:65', 'note:88', 'note:64', 'note:86', 'note:88', 'note:62', 'note:64', 'note:86', 'note:62', 'note:84', 'note:60', 'note:82', 'note:58', 'note:45', 'note:57', 'note:52', 'note:61', 'note:57', 'note:64', 'note:61', 'note:69', 'note:64', 'note:73', 'note:69', 'note:76', 'note:73', 'note:69', 'note:61', 'note:73', 'note:64', 'note:76', 'note:69', 'note:81', 'note:73', 'note:85', 'note:76', 'note:88', 'note:81', 'note:85', 'note:76', 'note:81', 'note:73', 'note:76', 'note:69', 'note:73', 'note:64', 'note:69', 'note:61', 'note:76', 'note:69', 'note:73', 'note:64', 'note:69', 'note:61', 'note:64', 'note:57', 'note:61', 'note:57', 'note:57', 'note:52', 'note:45', 'note:81', 'note:57', 'note:88', 'note:64', 'note:86', 'note:62', 'note:88', 'note:64', 'note:86', 'note:62', 'note:84', 'note:60', 'note:86', 'note:62', 'note:88', 'note:64', 'note:89', 'note:65', 'note:91', 'note:67', 'note:88', 'note:64', 'note:89', 'note:65', 'note:88', 'note:64', 'note:86', 'note:88', 'note:62', 'note:64', 'note:86', 'note:62', 'note:84', 'note:60', 'note:82', 'note:58', 'note:81', 'note:57', 'note:82', 'note:58', 'note:84', 'note:60', 'note:86', 'note:62', 'note:89', 'note:65', 'note:86', 'note:88', 'note:62', 'note:64', 'note:86', 'note:62', 'note:84', 'note:60', 'note:82', 'note:58', 'note:81', 'note:57', 'note:82', 'note:58', 'note:84', 'note:60', 'note:86', 'note:62', 'note:88', 'note:64', 'note:91', 'note:67', 'note:89', 'note:65', 'note:86', 'note:62', 'note:88', 'note:64', 'note:86', 'note:62', 'note:84', 'note:60', 'note:82', 'note:58', 'note:86', 'note:62', 'note:85', 'note:61', 'note:45', 'note:70', 'note:61', 'note:69', 'note:52', 'note:61', 'note:70', 'note:69', 'note:57', 'note:61', 'note:70', 'note:69', 'note:45', 'note:62', 'note:69', 'note:67', 'note:52', 'note:69', 'note:62', 'note:67', 'note:58', 'note:62', 'note:69', 'note:67', 'note:45', 'note:61', 'note:70', 'note:69', 'note:52', 'note:70', 'note:61', 'note:69', 'note:57', 'note:61', 'note:70', 'note:69', 'note:45', 'note:70', 'note:62', 'note:69', 'note:52', 'note:69', 'note:62', 'note:67', 'note:58', 'note:67', 'note:62', 'note:64', 'note:45', 'note:61', 'note:70', 'note:69', 'note:52', 'note:70', 'note:61', 'note:69', 'note:57', 'note:70', 'note:61', 'note:69', 'note:41', 'note:67', 'note:57', 'note:65', 'note:48', 'note:57', 'note:67', 'note:65', 'note:57', 'note:67', 'note:57', 'note:65', 'note:48', 'note:60', 'note:65', 'note:64', 'note:55', 'note:65', 'note:60', 'note:64', 'note:60', 'note:60', 'note:65', 'note:64', 'note:55', 'note:64', 'note:58', 'note:62', 'note:57', 'note:64', 'note:58', 'note:62', 'note:60', 'note:58', 'note:64', 'note:58', 'note:62', 'note:45', 'note:61', 'note:70', 'note:69', 'note:52', 'note:61', 'note:70', 'note:69', 'note:57', 'note:61', 'note:70', 'note:69', 'note:45', 'note:69', 'note:62', 'note:67', 'note:52', 'note:62', 'note:69', 'note:67', 'note:58', 'note:62', 'note:69', 'note:67', 'note:45', 'note:70', 'note:61', 'note:69', 'note:52', 'note:61', 'note:70', 'note:69', 'note:57', 'note:70', 'note:61', 'note:69', 'note:45', 'note:69', 'note:62', 'note:67', 'note:52', 'note:62', 'note:69', 'note:67', 'note:58', 'note:69', 'note:62', 'note:67', 'note:45', 'note:81', 'note:57', 'note:83', 'note:59', 'note:85', 'note:61', 'note:86', 'note:62', 'note:88', 'note:64', 'note:89', 'note:65', 'note:88', 'note:89', 'note:64', 'note:65', 'note:88', 'note:64', 'note:86', 'note:62', 'note:84', 'note:60', 'note:86', 'note:62', 'note:88', 'note:64', 'note:89', 'note:65', 'note:91', 'note:67', 'note:88', 'note:64', 'note:89', 'note:65', 'note:88', 'note:64', 'note:86', 'note:88', 'note:62', 'note:64', 'note:86', 'note:62', 'note:84', 'note:60', 'note:82', 'note:58', 'note:81', 'note:57', 'note:83', 'note:59', 'note:85', 'note:61', 'note:86', 'note:62', 'note:88', 'note:64', 'note:89', 'note:65', 'note:91', 'note:67', 'note:93', 'note:69', 'note:94', 'note:96', 'note:70', 'note:72', 'note:94', 'note:70', 'note:93', 'note:69', 'note:91', 'note:67', 'note:93', 'note:69', 'note:93', 'note:69', 'note:91', 'note:67', 'note:94', 'note:70', 'note:93', 'note:69', 'note:89', 'note:91', 'note:65', 'note:67', 'note:89', 'note:65', 'note:87', 'note:63', 'note:86', 'note:62', 'note:88', 'note:64', 'note:84', 'note:60', 'note:82', 'note:58', 'note:45', 'note:61', 'note:70', 'note:69', 'note:52', 'note:70', 'note:61', 'note:69', 'note:57', 'note:61', 'note:70', 'note:69', 'note:45', 'note:69', 'note:62', 'note:67', 'note:52', 'note:69', 'note:62', 'note:67', 'note:58', 'note:69', 'note:62', 'note:67', 'note:45', 'note:61', 'note:70', 'note:69', 'note:52', 'note:70', 'note:61', 'note:69', 'note:57', 'note:70', 'note:61', 'note:69', 'note:45', 'note:70', 'note:62', 'note:69', 'note:52', 'note:62', 'note:69', 'note:67', 'note:58', 'note:67', 'note:62', 'note:64', 'note:45', 'note:61', 'note:70', 'note:69', 'note:52', 'note:70', 'note:61', 'note:69', 'note:57', 'note:61', 'note:70', 'note:69', 'note:41', 'note:67', 'note:57', 'note:65', 'note:48', 'note:67', 'note:57', 'note:65', 'note:57', 'note:67', 'note:57', 'note:65', 'note:48', 'note:60', 'note:65', 'note:64', 'note:55', 'note:60', 'note:65', 'note:64', 'note:60', 'note:60', 'note:65', 'note:64', 'note:55', 'note:64', 'note:58', 'note:62', 'note:57', 'note:58', 'note:64', 'note:62', 'note:60', 'note:58', 'note:58', 'note:64', 'note:62', 'note:45', 'note:52', 'note:64', 'note:61', 'note:57', 'note:50', 'note:52', 'note:53', 'note:58', 'note:64', 'note:62', 'note:55', 'note:57', 'note:58', 'note:60', 'note:58', 'note:57', 'note:45', 'note:52', 'note:61', 'note:64', 'note:57', 'note:50', 'note:52', 'note:53', 'note:58', 'note:64', 'note:62', 'note:55', 'note:57', 'note:58', 'note:60', 'note:58', 'note:57', 'note:70', 'note:76', 'note:56', 'note:62', 'note:82', 'note:58', 'note:84', 'note:60', 'note:86', 'note:62', 'note:89', 'note:65', 'note:86', 'note:62', 'note:84', 'note:60', 'note:84', 'note:86', 'note:60', 'note:62', 'note:84', 'note:60', 'note:82', 'note:58', 'note:77', 'note:53', 'note:82', 'note:58', 'note:81', 'note:57', 'note:80', 'note:56', 'note:77', 'note:53', 'note:76', 'note:52', 'note:74', 'note:50', 'note:45', 'note:57', 'note:52', 'note:61', 'note:57', 'note:64', 'note:61', 'note:69', 'note:64', 'note:73', 'note:69', 'note:76', 'note:73', 'note:69', 'note:61', 'note:73', 'note:64', 'note:76', 'note:69', 'note:81', 'note:73', 'note:85', 'note:76', 'note:88', 'note:81', 'note:69', 'note:61', 'note:73', 'note:64', 'note:76', 'note:69', 'note:81', 'note:73', 'note:85', 'note:76', 'note:88', 'note:81', 'note:81', 'note:73', 'note:85', 'note:76', 'note:88', 'note:81', 'note:93', 'note:85', 'note:97', 'note:88', 'note:100', 'note:93', 'note:105', 'note:85', 'note:69', 'note:76']\n"
     ]
    }
   ],
   "source": [
    "events = convert_midi_to_tokens(test_path)\n",
    "print(events)"
   ]
  }
 ],
 "metadata": {
  "kernelspec": {
   "display_name": "Python 3",
   "language": "python",
   "name": "python3"
  },
  "language_info": {
   "codemirror_mode": {
    "name": "ipython",
    "version": 3
   },
   "file_extension": ".py",
   "mimetype": "text/x-python",
   "name": "python",
   "nbconvert_exporter": "python",
   "pygments_lexer": "ipython3",
   "version": "3.7.10"
  }
 },
 "nbformat": 4,
 "nbformat_minor": 5
}
